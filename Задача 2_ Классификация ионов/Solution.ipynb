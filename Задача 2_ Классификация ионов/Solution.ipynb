{
 "cells": [
  {
   "cell_type": "code",
   "execution_count": 1,
   "metadata": {},
   "outputs": [],
   "source": [
    "import cv2 as cv\n",
    "import numpy as np\n",
    "from matplotlib import pyplot as plt\n",
    "import sys\n",
    "import os\n",
    "import yaml\n",
    "path = 'img'\n",
    "images = list(os.listdir(f'{path}'))"
   ]
  },
  {
   "cell_type": "code",
   "execution_count": 9,
   "metadata": {},
   "outputs": [
    {
     "name": "stderr",
     "output_type": "stream",
     "text": [
      "/tmp/ipykernel_28276/3338917602.py:17: DeprecationWarning: `np.bool` is a deprecated alias for the builtin `bool`. To silence this warning, use `bool` by itself. Doing this will not modify any behavior and is safe. If you specifically wanted the numpy scalar type, use `np.bool_` here.\n",
      "Deprecated in NumPy 1.20; for more details and guidance: https://numpy.org/devdocs/release/1.20.0-notes.html#deprecations\n",
      "  matrix = imgs[1].astype(np.bool)\n"
     ]
    }
   ],
   "source": [
    "vectors = np.ndarray(len(images),)\n",
    "for image in range(len(images)):\n",
    "    img = cv.imread(f'{path}/{images[image]}', cv.IMREAD_GRAYSCALE)\n",
    "    assert img is not None, \"file could not be read, check with os.path.exists()\"\n",
    "    img = cv.medianBlur(img,7)\n",
    "    th = cv.adaptiveThreshold(img,255,cv.ADAPTIVE_THRESH_MEAN_C,\\\n",
    "                cv.THRESH_BINARY,11,-3)\n",
    "    titles = ['Original Image', \n",
    "                'Adaptive Mean Thresholding + Convolution']\n",
    "    imgs = [img, th]\n",
    "    #for i in range(2):\n",
    "    imgs[1] = imgs[1] @ np.ones(np.transpose(imgs[1]).shape)\n",
    "        #plt.subplot(2,2,i+1),plt.imshow(imgs[i],'gray')\n",
    "        #plt.title(titles[i])\n",
    "        #plt.xticks([]),plt.yticks([])\n",
    "    #plt.show()\n",
    "    matrix = imgs[1].astype(np.bool)\n",
    "    np.append(vectors,matrix[82])"
   ]
  },
  {
   "cell_type": "code",
   "execution_count": 10,
   "metadata": {},
   "outputs": [
    {
     "ename": "AxisError",
     "evalue": "axis 1 is out of bounds for array of dimension 1",
     "output_type": "error",
     "traceback": [
      "\u001b[0;31m---------------------------------------------------------------------------\u001b[0m",
      "\u001b[0;31mAxisError\u001b[0m                                 Traceback (most recent call last)",
      "\u001b[1;32m/home/qsr/Desktop/hackathon/materials/ion_classification/Solution.ipynb Cell 3\u001b[0m line \u001b[0;36m1\n\u001b[0;32m----> <a href='vscode-notebook-cell:/home/qsr/Desktop/hackathon/materials/ion_classification/Solution.ipynb#X14sZmlsZQ%3D%3D?line=0'>1</a>\u001b[0m values \u001b[39m=\u001b[39m vectors\u001b[39m.\u001b[39;49msum(axis \u001b[39m=\u001b[39;49m \u001b[39m1\u001b[39;49m)\n\u001b[1;32m      <a href='vscode-notebook-cell:/home/qsr/Desktop/hackathon/materials/ion_classification/Solution.ipynb#X14sZmlsZQ%3D%3D?line=1'>2</a>\u001b[0m plt\u001b[39m.\u001b[39mplot(np\u001b[39m.\u001b[39marange(\u001b[39mlen\u001b[39m(images)),values,)\n",
      "File \u001b[0;32m/usr/local/lib/python3.10/dist-packages/numpy/core/_methods.py:48\u001b[0m, in \u001b[0;36m_sum\u001b[0;34m(a, axis, dtype, out, keepdims, initial, where)\u001b[0m\n\u001b[1;32m     46\u001b[0m \u001b[39mdef\u001b[39;00m \u001b[39m_sum\u001b[39m(a, axis\u001b[39m=\u001b[39m\u001b[39mNone\u001b[39;00m, dtype\u001b[39m=\u001b[39m\u001b[39mNone\u001b[39;00m, out\u001b[39m=\u001b[39m\u001b[39mNone\u001b[39;00m, keepdims\u001b[39m=\u001b[39m\u001b[39mFalse\u001b[39;00m,\n\u001b[1;32m     47\u001b[0m          initial\u001b[39m=\u001b[39m_NoValue, where\u001b[39m=\u001b[39m\u001b[39mTrue\u001b[39;00m):\n\u001b[0;32m---> 48\u001b[0m     \u001b[39mreturn\u001b[39;00m umr_sum(a, axis, dtype, out, keepdims, initial, where)\n",
      "\u001b[0;31mAxisError\u001b[0m: axis 1 is out of bounds for array of dimension 1"
     ]
    }
   ],
   "source": [
    "values = vectors.sum(axis = 1)\n",
    "plt.plot(np.arange(len(images)),values,)"
   ]
  },
  {
   "cell_type": "code",
   "execution_count": null,
   "metadata": {},
   "outputs": [],
   "source": [
    "\n",
    "from dimod import ConstrainedQuadraticModel, Integer\n",
    "\n",
    "i = Integer('i', upper_bound=4)\n",
    "\n",
    "j = Integer('j', upper_bound=4)\n"
   ]
  },
  {
   "cell_type": "code",
   "execution_count": null,
   "metadata": {},
   "outputs": [],
   "source": [
    "cqm.set_objective(-i*j)"
   ]
  },
  {
   "cell_type": "code",
   "execution_count": null,
   "metadata": {},
   "outputs": [],
   "source": [
    "cqm.add_constraint(values*vectors <= 0, \"Max perimeter\")"
   ]
  },
  {
   "cell_type": "code",
   "execution_count": null,
   "metadata": {},
   "outputs": [],
   "source": [
    "from dwave.system import LeapHybridCQMSampler\n",
    "\n",
    "sampler = LeapHybridCQMSampler()                \n",
    "\n",
    "sampleset = sampler.sample_cqm(cqm)             \n",
    "\n",
    "print(sampleset.first)                          "
   ]
  }
 ],
 "metadata": {
  "kernelspec": {
   "display_name": "Python 3",
   "language": "python",
   "name": "python3"
  },
  "language_info": {
   "codemirror_mode": {
    "name": "ipython",
    "version": 3
   },
   "file_extension": ".py",
   "mimetype": "text/x-python",
   "name": "python",
   "nbconvert_exporter": "python",
   "pygments_lexer": "ipython3",
   "version": "3.10.12"
  }
 },
 "nbformat": 4,
 "nbformat_minor": 2
}

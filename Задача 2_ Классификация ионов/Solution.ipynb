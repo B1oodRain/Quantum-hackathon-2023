{
 "cells": [
  {
   "cell_type": "code",
   "execution_count": 209,
   "metadata": {},
   "outputs": [],
   "source": [
    "import cv2 as cv\n",
    "import numpy as np\n",
    "from matplotlib import pyplot as plt\n",
    "import sys\n",
    "import os\n",
    "import yaml\n",
    "path = 'images'\n",
    "images = list(os.listdir(f'{path}'))"
   ]
  },
  {
   "cell_type": "code",
   "execution_count": 210,
   "metadata": {},
   "outputs": [],
   "source": [
    "vectors = np.ndarray((1020,164))\n",
    "for image in range(len(images)):\n",
    "    img = cv.imread(f'{path}/{images[image]}', cv.IMREAD_GRAYSCALE)\n",
    "    assert img is not None, \"file could not be read, check with os.path.exists()\"\n",
    "    img = cv.medianBlur(img,7)\n",
    "    th = cv.adaptiveThreshold(img,255,cv.ADAPTIVE_THRESH_MEAN_C,\\\n",
    "                cv.THRESH_BINARY,11,-3)\n",
    "    titles = ['Original Image', \n",
    "                'Adaptive Mean Thresholding + Convolution']\n",
    "    imgs = [img, th]\n",
    "    #for i in range(2):\n",
    "    imgs[1] = imgs[1] @ np.ones(np.transpose(imgs[1]).shape)\n",
    "        #plt.subplot(2,2,i+1),plt.imshow(imgs[i],'gray')\n",
    "        #plt.title(titles[i])\n",
    "        #plt.xticks([]),plt.yticks([])\n",
    "    #plt.show()\n",
    "    #matrix = imgs[1].astype(np.bool)\n",
    "    flag = 0\n",
    "    vector = []\n",
    "    for i in range (164):\n",
    "        if imgs[1][i][82] == 0:\n",
    "            vector.append(0)\n",
    "        else:\n",
    "            vector.append(1)\n",
    "    vectors[image] = vector"
   ]
  },
  {
   "cell_type": "code",
   "execution_count": 211,
   "metadata": {},
   "outputs": [
    {
     "data": {
      "text/plain": [
       "(1020, 164)"
      ]
     },
     "execution_count": 211,
     "metadata": {},
     "output_type": "execute_result"
    }
   ],
   "source": [
    "vectors.shape"
   ]
  },
  {
   "cell_type": "code",
   "execution_count": 212,
   "metadata": {},
   "outputs": [
    {
     "name": "stdout",
     "output_type": "stream",
     "text": [
      "22003\n"
     ]
    }
   ],
   "source": [
    "flag = 0\n",
    "for i in range(1020):\n",
    "        for j in range (164):\n",
    "            if vectors[i][j] != False:\n",
    "                flag+=1\n",
    "print (flag)"
   ]
  },
  {
   "cell_type": "code",
   "execution_count": 213,
   "metadata": {},
   "outputs": [
    {
     "data": {
      "text/plain": [
       "array([152,  23,   1,   0,   0,   0,   2,   2,   0,   0,   0,   0,   0,\n",
       "         1,   0,   0,   5, 152, 703, 833, 837, 837, 821, 779, 363,  38,\n",
       "         2,   2,   0,   0,   0,   0,   0,   0,   1,   0,   0,   0,   0,\n",
       "         0,   0,   0,   0,   1,   0,   0,   0,   0,   1,   0,   0,   1,\n",
       "         0,   0,   0,   9, 332, 792, 844, 850, 842, 830, 695, 197,  19,\n",
       "         1,   0,   0,   0,   1,   0,   1,   0,   0,   0,   4,   0,   0,\n",
       "         0,   0,   0,   0,   0,   0,   0,   0,   0,   2,   0,   0,   2,\n",
       "        65, 514, 802, 817, 822, 805, 776, 486, 110,   6,   0,   0,   0,\n",
       "         0,   0,   0,   0,   0,   0,   0,   1,   0,   0,   0,   0,   1,\n",
       "         0,   0,   0,   0,   0,   0,   0,   0,   0,   1,   0,   3,  55,\n",
       "       494, 778, 805, 808, 806, 800, 749, 418,  80,   3,   0,   0,   0,\n",
       "         0,   0,   0,   0,   2,   1,   0,   0,   0,   0,   0,   0,   0,\n",
       "         0,   1,   2,   1,   0,   1,   0,  12])"
      ]
     },
     "execution_count": 213,
     "metadata": {},
     "output_type": "execute_result"
    }
   ],
   "source": [
    "values = vectors.sum(axis = 0)\n",
    "values.astype(int)"
   ]
  },
  {
   "cell_type": "code",
   "execution_count": 214,
   "metadata": {},
   "outputs": [
    {
     "data": {
      "image/png": "[encoded data removed]",
      "text/plain": [
       "<Figure size 640x480 with 1 Axes>"
      ]
     },
     "metadata": {},
     "output_type": "display_data"
    }
   ],
   "source": [
    "plot1 = plt.plot(np.arange(164),values)"
   ]
  },
  {
   "cell_type": "code",
   "execution_count": null,
   "metadata": {},
   "outputs": [],
   "source": []
  },
  {
   "cell_type": "code",
   "execution_count": null,
   "metadata": {},
   "outputs": [],
   "source": [
    "centres = [21, 61, 94, 134]\n",
    "final_vectors = np.ndarray((1020,4))\n",
    "for image in range (len(images)):\n",
    "    vector = [0,0,0,0]\n",
    "    for i in range(4):\n",
    "        flag = 0\n",
    "        for k in range (-4, 5):\n",
    "            if values[centres[i]+k] * vectors [image][centres[i]+k] > 800:\n",
    "                flag = 1\n",
    "            else:\n",
    "                continue\n",
    "        if flag == 0:\n",
    "            vector[i] = 0\n",
    "        else:\n",
    "            vector [i] = 1\n",
    "    final_vectors[image] = vector"
   ]
  },
  {
   "cell_type": "code",
   "execution_count": 217,
   "metadata": {},
   "outputs": [
    {
     "data": {
      "text/plain": [
       "array([[1., 1., 1., 1.],\n",
       "       [1., 1., 1., 1.],\n",
       "       [1., 1., 1., 1.],\n",
       "       ...,\n",
       "       [1., 1., 1., 1.],\n",
       "       [0., 1., 0., 1.],\n",
       "       [1., 1., 1., 0.]])"
      ]
     },
     "execution_count": 217,
     "metadata": {},
     "output_type": "execute_result"
    }
   ],
   "source": [
    "final_vectors"
   ]
  },
  {
   "cell_type": "code",
   "execution_count": 1,
   "metadata": {},
   "outputs": [
    {
     "ename": "NameError",
     "evalue": "name 'images' is not defined",
     "output_type": "error",
     "traceback": [
      "\u001b[1;31m---------------------------------------------------------------------------\u001b[0m",
      "\u001b[1;31mNameError\u001b[0m                                 Traceback (most recent call last)",
      "\u001b[1;32mc:\\Users\\Kosmr\\Desktop\\python\\Quantum hackathon\\Quantum-hackathon-2023\\Задача 2_ Классификация ионов\\Solution.ipynb Cell 10\u001b[0m line \u001b[0;36m2\n\u001b[0;32m      <a href='vscode-notebook-cell:/c%3A/Users/Kosmr/Desktop/python/Quantum%20hackathon/Quantum-hackathon-2023/%D0%97%D0%B0%D0%B4%D0%B0%D1%87%D0%B0%202_%20%D0%9A%D0%BB%D0%B0%D1%81%D1%81%D0%B8%D1%84%D0%B8%D0%BA%D0%B0%D1%86%D0%B8%D1%8F%20%D0%B8%D0%BE%D0%BD%D0%BE%D0%B2/Solution.ipynb#X12sZmlsZQ%3D%3D?line=0'>1</a>\u001b[0m \u001b[39mimport\u001b[39;00m \u001b[39mpandas\u001b[39;00m \u001b[39mas\u001b[39;00m \u001b[39mpd\u001b[39;00m\n\u001b[1;32m----> <a href='vscode-notebook-cell:/c%3A/Users/Kosmr/Desktop/python/Quantum%20hackathon/Quantum-hackathon-2023/%D0%97%D0%B0%D0%B4%D0%B0%D1%87%D0%B0%202_%20%D0%9A%D0%BB%D0%B0%D1%81%D1%81%D0%B8%D1%84%D0%B8%D0%BA%D0%B0%D1%86%D0%B8%D1%8F%20%D0%B8%D0%BE%D0%BD%D0%BE%D0%B2/Solution.ipynb#X12sZmlsZQ%3D%3D?line=1'>2</a>\u001b[0m df \u001b[39m=\u001b[39m pd\u001b[39m.\u001b[39mDataFrame([images,final_vectors], columns\u001b[39m=\u001b[39m[\u001b[39m'\u001b[39m\u001b[39mFilename\u001b[39m\u001b[39m'\u001b[39m, \u001b[39m'\u001b[39m\u001b[39mQubit 1 state\u001b[39m\u001b[39m'\u001b[39m, \u001b[39m'\u001b[39m\u001b[39mQubit 2 state\u001b[39m\u001b[39m'\u001b[39m, \u001b[39m'\u001b[39m\u001b[39mQubit 3 state\u001b[39m\u001b[39m'\u001b[39m, \u001b[39m'\u001b[39m\u001b[39mQubit 4 state\u001b[39m\u001b[39m'\u001b[39m])\n",
      "\u001b[1;31mNameError\u001b[0m: name 'images' is not defined"
     ]
    }
   ],
   "source": [
    "import pandas as pd\n",
    "df = pd.DataFrame([images,final_vectors], columns=['Filename', 'Qubit 1 state', 'Qubit 2 state', 'Qubit 3 state', 'Qubit 4 state'])"
   ]
  }
 ],
 "metadata": {
  "kernelspec": {
   "display_name": "Python 3",
   "language": "python",
   "name": "python3"
  },
  "language_info": {
   "codemirror_mode": {
    "name": "ipython",
    "version": 3
   },
   "file_extension": ".py",
   "mimetype": "text/x-python",
   "name": "python",
   "nbconvert_exporter": "python",
   "pygments_lexer": "ipython3",
   "version": "3.10.10"
  }
 },
 "nbformat": 4,
 "nbformat_minor": 2
}
